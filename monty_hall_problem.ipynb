{
 "cells": [
  {
   "cell_type": "code",
   "execution_count": 22,
   "metadata": {},
   "outputs": [
    {
     "name": "stdout",
     "output_type": "stream",
     "text": [
      "6537\n"
     ]
    }
   ],
   "source": [
    "# change the door\n",
    "\n",
    "import random\n",
    "\n",
    "win = 0\n",
    "for i in range(10000):\n",
    "    doors = {0, 1, 2}\n",
    "    prize = random.randint(0, 2)\n",
    "    first_choice = random.randint(0, 2)\n",
    "    doors.remove(first_choice)\n",
    "    available = doors.copy()\n",
    "    try:\n",
    "        doors.remove(prize)\n",
    "    except KeyError:\n",
    "        pass\n",
    "        \n",
    "    dumb_gift = random.sample(doors, 1)[0]\n",
    "    available.remove(dumb_gift)\n",
    "    second_choice = list(available)[0]\n",
    "    if second_choice == prize:\n",
    "        win += 1\n",
    "\n",
    "print(win)"
   ]
  },
  {
   "cell_type": "code",
   "execution_count": 23,
   "metadata": {},
   "outputs": [
    {
     "name": "stdout",
     "output_type": "stream",
     "text": [
      "3288\n"
     ]
    }
   ],
   "source": [
    "# remain with the first door\n",
    "\n",
    "import random\n",
    "\n",
    "win = 0\n",
    "for i in range(10000):\n",
    "    doors = {0, 1, 2}\n",
    "    prize = random.randint(0, 2)\n",
    "    first_choice = random.randint(0, 2)\n",
    "    doors.remove(first_choice)\n",
    "    available = doors.copy()\n",
    "    try:\n",
    "        doors.remove(prize)\n",
    "    except KeyError:\n",
    "        pass\n",
    "        \n",
    "    dumb_gift = random.sample(doors, 1)[0]\n",
    "    available.remove(dumb_gift)\n",
    "    second_choice = list(available)[0]\n",
    "    if first_choice == prize:\n",
    "        win += 1\n",
    "\n",
    "print(win)"
   ]
  },
  {
   "cell_type": "code",
   "execution_count": null,
   "metadata": {},
   "outputs": [],
   "source": []
  }
 ],
 "metadata": {
  "kernelspec": {
   "display_name": "Python 3",
   "language": "python",
   "name": "python3"
  },
  "language_info": {
   "codemirror_mode": {
    "name": "ipython",
    "version": 3
   },
   "file_extension": ".py",
   "mimetype": "text/x-python",
   "name": "python",
   "nbconvert_exporter": "python",
   "pygments_lexer": "ipython3",
   "version": "3.8.5"
  }
 },
 "nbformat": 4,
 "nbformat_minor": 4
}
